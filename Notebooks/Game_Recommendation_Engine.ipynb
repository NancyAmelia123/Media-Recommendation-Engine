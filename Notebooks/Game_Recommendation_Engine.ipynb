{
  "nbformat": 4,
  "nbformat_minor": 0,
  "metadata": {
    "colab": {
      "name": "Game Recommendation Engine.ipynb",
      "provenance": []
    },
    "kernelspec": {
      "name": "python3",
      "display_name": "Python 3"
    },
    "language_info": {
      "name": "python"
    }
  },
  "cells": [
    {
      "cell_type": "code",
      "execution_count": 1,
      "metadata": {
        "colab": {
          "resources": {
            "http://localhost:8080/nbextensions/google.colab/files.js": {
              "data": "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",
              "ok": true,
              "headers": [
                [
                  "content-type",
                  "application/javascript"
                ]
              ],
              "status": 200,
              "status_text": ""
            }
          },
          "base_uri": "https://localhost:8080/",
          "height": 90
        },
        "id": "CssrdotQX_dH",
        "outputId": "ae672503-bd7e-470e-9891-e02acfb955cb"
      },
      "outputs": [
        {
          "output_type": "display_data",
          "data": {
            "text/plain": [
              "<IPython.core.display.HTML object>"
            ],
            "text/html": [
              "\n",
              "     <input type=\"file\" id=\"files-5c427d6c-3957-430e-9874-f66f8bd8f557\" name=\"files[]\" multiple disabled\n",
              "        style=\"border:none\" />\n",
              "     <output id=\"result-5c427d6c-3957-430e-9874-f66f8bd8f557\">\n",
              "      Upload widget is only available when the cell has been executed in the\n",
              "      current browser session. Please rerun this cell to enable.\n",
              "      </output>\n",
              "      <script src=\"/nbextensions/google.colab/files.js\"></script> "
            ]
          },
          "metadata": {}
        },
        {
          "output_type": "stream",
          "name": "stdout",
          "text": [
            "Saving kaggle.json to kaggle.json\n"
          ]
        },
        {
          "output_type": "execute_result",
          "data": {
            "text/plain": [
              "{'kaggle.json': b'{\"username\":\"ifeanyinneji\",\"key\":\"68b7b1b6c0d102f7d9941d0b3eff800a\"}'}"
            ]
          },
          "metadata": {},
          "execution_count": 1
        }
      ],
      "source": [
        "!pip install -q kaggle\n",
        "from google.colab import files\n",
        "\n",
        "files.upload()\n"
      ]
    },
    {
      "cell_type": "code",
      "source": [
        "# This cell creates a .kaggle hidden folder in our root directory and copies the kaggle.json file to the folder.\n",
        "! mkdir ~/.kaggle\n",
        "\n",
        "! cp kaggle.json ~/.kaggle/\n",
        "! chmod 600 /root/.kaggle/kaggle.json"
      ],
      "metadata": {
        "id": "o5Us_vDDYH6J"
      },
      "execution_count": 2,
      "outputs": []
    },
    {
      "cell_type": "code",
      "source": [
        "# This cell will download the dataset used for this project to the /content directory and also unzip the csv file.\n",
        "!kaggle datasets download -d xcherry/games-of-all-time-from-metacritic\n",
        "!unzip /content/games-of-all-time-from-metacritic.zip"
      ],
      "metadata": {
        "colab": {
          "base_uri": "https://localhost:8080/"
        },
        "id": "XakEJiONYkNv",
        "outputId": "38d408de-b48e-4a92-f492-1173fae9de98"
      },
      "execution_count": 3,
      "outputs": [
        {
          "output_type": "stream",
          "name": "stdout",
          "text": [
            "Downloading games-of-all-time-from-metacritic.zip to /content\n",
            "\r  0% 0.00/2.42M [00:00<?, ?B/s]\n",
            "\r100% 2.42M/2.42M [00:00<00:00, 136MB/s]\n",
            "Archive:  /content/games-of-all-time-from-metacritic.zip\n",
            "  inflating: games_of_all_time.csv   \n"
          ]
        }
      ]
    },
    {
      "cell_type": "code",
      "source": [
        "import pandas as pd\n",
        "import matplotlib.pyplot as plt\n",
        "import seaborn as sns\n",
        "%matplotlib inline\n",
        "sns.set_style('darkgrid')\n",
        "from wordcloud import WordCloud\n",
        "from sklearn.feature_extraction.text import TfidfVectorizer\n",
        "from sklearn.metrics.pairwise import linear_kernel"
      ],
      "metadata": {
        "id": "k93ivOI2ZcEF"
      },
      "execution_count": 6,
      "outputs": []
    },
    {
      "cell_type": "code",
      "source": [
        "import pandas as pd\n",
        "df = pd.read_csv(\"games_of_all_time.csv\")\n",
        "df"
      ],
      "metadata": {
        "colab": {
          "base_uri": "https://localhost:8080/",
          "height": 954
        },
        "id": "NG0UYHpuYs5s",
        "outputId": "fdb28f17-a080-4510-e4a9-1ad871b2f0c0"
      },
      "execution_count": 5,
      "outputs": [
        {
          "output_type": "execute_result",
          "data": {
            "text/plain": [
              "                                 game_name  meta_score  user_score  \\\n",
              "0     The Legend of Zelda: Ocarina of Time        99.0        91.0   \n",
              "1                       Super Mario Galaxy        97.0        91.0   \n",
              "2                     Super Mario Galaxy 2        97.0        91.0   \n",
              "3                            Metroid Prime        97.0        89.0   \n",
              "4                      Super Mario Odyssey        97.0        89.0   \n",
              "...                                    ...         ...         ...   \n",
              "8826                           kill.switch        74.0        80.5   \n",
              "8827                                nail'd        69.0        76.0   \n",
              "8828                        oOo: Ascension        70.0        73.0   \n",
              "8829                          uDraw Studio        71.0        71.0   \n",
              "8830                                   xXx        50.0        50.0   \n",
              "\n",
              "                       platform  \\\n",
              "0               ['nintendo-64']   \n",
              "1                       ['wii']   \n",
              "2                       ['wii']   \n",
              "3                  ['gamecube']   \n",
              "4                    ['switch']   \n",
              "...                         ...   \n",
              "8826  ['xbox', 'playstation-2']   \n",
              "8827                     ['pc']   \n",
              "8828               ['xbox-one']   \n",
              "8829                    ['wii']   \n",
              "8830       ['game-boy-advance']   \n",
              "\n",
              "                                            description  \\\n",
              "0     As a young boy, Link is tricked by Ganondorf, ...   \n",
              "1     [Metacritic's 2007 Wii Game of the Year] The u...   \n",
              "2     Super Mario Galaxy 2, the sequel to the galaxy...   \n",
              "3     Samus returns in a new mission to unravel the ...   \n",
              "4     New Evolution of Mario Sandbox-Style Gameplay....   \n",
              "...                                                 ...   \n",
              "8826  In a world on the brink of global conflict, yo...   \n",
              "8827  nail’d is all about eschewing boring realism f...   \n",
              "8828  oOo: Ascension is a lightning-paced test of re...   \n",
              "8829  Packaged with the uDraw GameTablet, uDraw Stud...   \n",
              "8830  You are underground thrill-seeker turned spy X...   \n",
              "\n",
              "                                                    url            developer  \\\n",
              "0     https://www.metacritic.com/game/nintendo-64/th...             Nintendo   \n",
              "1     https://www.metacritic.com/game/wii/super-mari...             Nintendo   \n",
              "2     https://www.metacritic.com/game/wii/super-mari...  Nintendo EAD Tokyo    \n",
              "3     https://www.metacritic.com/game/gamecube/metro...        Retro Studios   \n",
              "4     https://www.metacritic.com/game/switch/super-m...             Nintendo   \n",
              "...                                                 ...                  ...   \n",
              "8826    https://www.metacritic.com/game/xbox/killswitch                Namco   \n",
              "8827           https://www.metacritic.com/game/pc/naild             Techland   \n",
              "8828  https://www.metacritic.com/game/xbox-one/ooo-a...        Kenny Creanor   \n",
              "8829   https://www.metacritic.com/game/wii/udraw-studio                  THQ   \n",
              "8830  https://www.metacritic.com/game/game-boy-advan...      Digital Eclipse   \n",
              "\n",
              "                                                genre          type rating  \n",
              "0                     ['Action Adventure', 'Fantasy']  singleplayer      E  \n",
              "1                      ['Action', 'Platformer', '3D']  singleplayer      E  \n",
              "2                      ['Action', 'Platformer', '3D']  singleplayer      E  \n",
              "3     ['Action', 'Shooter', 'First-Person', 'Sci-Fi']  singleplayer      T  \n",
              "4                      ['Action', 'Platformer', '3D']  singleplayer   E10+  \n",
              "...                                               ...           ...    ...  \n",
              "8826  ['Action', 'Shooter', 'Third-Person', 'Modern']  singleplayer      T  \n",
              "8827    ['Driving', 'Racing', 'Arcade', 'Automobile']  singleplayer   E10+  \n",
              "8828                  ['Action', 'General', 'Arcade']   multiplayer      E  \n",
              "8829                     ['Miscellaneous', 'General']           NaN      E  \n",
              "8830                   ['Action', 'Platformer', '2D']  singleplayer      E  \n",
              "\n",
              "[8831 rows x 10 columns]"
            ],
            "text/html": [
              "\n",
              "  <div id=\"df-da279d9b-8af8-4fb8-a594-c2e9984987af\">\n",
              "    <div class=\"colab-df-container\">\n",
              "      <div>\n",
              "<style scoped>\n",
              "    .dataframe tbody tr th:only-of-type {\n",
              "        vertical-align: middle;\n",
              "    }\n",
              "\n",
              "    .dataframe tbody tr th {\n",
              "        vertical-align: top;\n",
              "    }\n",
              "\n",
              "    .dataframe thead th {\n",
              "        text-align: right;\n",
              "    }\n",
              "</style>\n",
              "<table border=\"1\" class=\"dataframe\">\n",
              "  <thead>\n",
              "    <tr style=\"text-align: right;\">\n",
              "      <th></th>\n",
              "      <th>game_name</th>\n",
              "      <th>meta_score</th>\n",
              "      <th>user_score</th>\n",
              "      <th>platform</th>\n",
              "      <th>description</th>\n",
              "      <th>url</th>\n",
              "      <th>developer</th>\n",
              "      <th>genre</th>\n",
              "      <th>type</th>\n",
              "      <th>rating</th>\n",
              "    </tr>\n",
              "  </thead>\n",
              "  <tbody>\n",
              "    <tr>\n",
              "      <th>0</th>\n",
              "      <td>The Legend of Zelda: Ocarina of Time</td>\n",
              "      <td>99.0</td>\n",
              "      <td>91.0</td>\n",
              "      <td>['nintendo-64']</td>\n",
              "      <td>As a young boy, Link is tricked by Ganondorf, ...</td>\n",
              "      <td>https://www.metacritic.com/game/nintendo-64/th...</td>\n",
              "      <td>Nintendo</td>\n",
              "      <td>['Action Adventure', 'Fantasy']</td>\n",
              "      <td>singleplayer</td>\n",
              "      <td>E</td>\n",
              "    </tr>\n",
              "    <tr>\n",
              "      <th>1</th>\n",
              "      <td>Super Mario Galaxy</td>\n",
              "      <td>97.0</td>\n",
              "      <td>91.0</td>\n",
              "      <td>['wii']</td>\n",
              "      <td>[Metacritic's 2007 Wii Game of the Year] The u...</td>\n",
              "      <td>https://www.metacritic.com/game/wii/super-mari...</td>\n",
              "      <td>Nintendo</td>\n",
              "      <td>['Action', 'Platformer', '3D']</td>\n",
              "      <td>singleplayer</td>\n",
              "      <td>E</td>\n",
              "    </tr>\n",
              "    <tr>\n",
              "      <th>2</th>\n",
              "      <td>Super Mario Galaxy 2</td>\n",
              "      <td>97.0</td>\n",
              "      <td>91.0</td>\n",
              "      <td>['wii']</td>\n",
              "      <td>Super Mario Galaxy 2, the sequel to the galaxy...</td>\n",
              "      <td>https://www.metacritic.com/game/wii/super-mari...</td>\n",
              "      <td>Nintendo EAD Tokyo</td>\n",
              "      <td>['Action', 'Platformer', '3D']</td>\n",
              "      <td>singleplayer</td>\n",
              "      <td>E</td>\n",
              "    </tr>\n",
              "    <tr>\n",
              "      <th>3</th>\n",
              "      <td>Metroid Prime</td>\n",
              "      <td>97.0</td>\n",
              "      <td>89.0</td>\n",
              "      <td>['gamecube']</td>\n",
              "      <td>Samus returns in a new mission to unravel the ...</td>\n",
              "      <td>https://www.metacritic.com/game/gamecube/metro...</td>\n",
              "      <td>Retro Studios</td>\n",
              "      <td>['Action', 'Shooter', 'First-Person', 'Sci-Fi']</td>\n",
              "      <td>singleplayer</td>\n",
              "      <td>T</td>\n",
              "    </tr>\n",
              "    <tr>\n",
              "      <th>4</th>\n",
              "      <td>Super Mario Odyssey</td>\n",
              "      <td>97.0</td>\n",
              "      <td>89.0</td>\n",
              "      <td>['switch']</td>\n",
              "      <td>New Evolution of Mario Sandbox-Style Gameplay....</td>\n",
              "      <td>https://www.metacritic.com/game/switch/super-m...</td>\n",
              "      <td>Nintendo</td>\n",
              "      <td>['Action', 'Platformer', '3D']</td>\n",
              "      <td>singleplayer</td>\n",
              "      <td>E10+</td>\n",
              "    </tr>\n",
              "    <tr>\n",
              "      <th>...</th>\n",
              "      <td>...</td>\n",
              "      <td>...</td>\n",
              "      <td>...</td>\n",
              "      <td>...</td>\n",
              "      <td>...</td>\n",
              "      <td>...</td>\n",
              "      <td>...</td>\n",
              "      <td>...</td>\n",
              "      <td>...</td>\n",
              "      <td>...</td>\n",
              "    </tr>\n",
              "    <tr>\n",
              "      <th>8826</th>\n",
              "      <td>kill.switch</td>\n",
              "      <td>74.0</td>\n",
              "      <td>80.5</td>\n",
              "      <td>['xbox', 'playstation-2']</td>\n",
              "      <td>In a world on the brink of global conflict, yo...</td>\n",
              "      <td>https://www.metacritic.com/game/xbox/killswitch</td>\n",
              "      <td>Namco</td>\n",
              "      <td>['Action', 'Shooter', 'Third-Person', 'Modern']</td>\n",
              "      <td>singleplayer</td>\n",
              "      <td>T</td>\n",
              "    </tr>\n",
              "    <tr>\n",
              "      <th>8827</th>\n",
              "      <td>nail'd</td>\n",
              "      <td>69.0</td>\n",
              "      <td>76.0</td>\n",
              "      <td>['pc']</td>\n",
              "      <td>nail’d is all about eschewing boring realism f...</td>\n",
              "      <td>https://www.metacritic.com/game/pc/naild</td>\n",
              "      <td>Techland</td>\n",
              "      <td>['Driving', 'Racing', 'Arcade', 'Automobile']</td>\n",
              "      <td>singleplayer</td>\n",
              "      <td>E10+</td>\n",
              "    </tr>\n",
              "    <tr>\n",
              "      <th>8828</th>\n",
              "      <td>oOo: Ascension</td>\n",
              "      <td>70.0</td>\n",
              "      <td>73.0</td>\n",
              "      <td>['xbox-one']</td>\n",
              "      <td>oOo: Ascension is a lightning-paced test of re...</td>\n",
              "      <td>https://www.metacritic.com/game/xbox-one/ooo-a...</td>\n",
              "      <td>Kenny Creanor</td>\n",
              "      <td>['Action', 'General', 'Arcade']</td>\n",
              "      <td>multiplayer</td>\n",
              "      <td>E</td>\n",
              "    </tr>\n",
              "    <tr>\n",
              "      <th>8829</th>\n",
              "      <td>uDraw Studio</td>\n",
              "      <td>71.0</td>\n",
              "      <td>71.0</td>\n",
              "      <td>['wii']</td>\n",
              "      <td>Packaged with the uDraw GameTablet, uDraw Stud...</td>\n",
              "      <td>https://www.metacritic.com/game/wii/udraw-studio</td>\n",
              "      <td>THQ</td>\n",
              "      <td>['Miscellaneous', 'General']</td>\n",
              "      <td>NaN</td>\n",
              "      <td>E</td>\n",
              "    </tr>\n",
              "    <tr>\n",
              "      <th>8830</th>\n",
              "      <td>xXx</td>\n",
              "      <td>50.0</td>\n",
              "      <td>50.0</td>\n",
              "      <td>['game-boy-advance']</td>\n",
              "      <td>You are underground thrill-seeker turned spy X...</td>\n",
              "      <td>https://www.metacritic.com/game/game-boy-advan...</td>\n",
              "      <td>Digital Eclipse</td>\n",
              "      <td>['Action', 'Platformer', '2D']</td>\n",
              "      <td>singleplayer</td>\n",
              "      <td>E</td>\n",
              "    </tr>\n",
              "  </tbody>\n",
              "</table>\n",
              "<p>8831 rows × 10 columns</p>\n",
              "</div>\n",
              "      <button class=\"colab-df-convert\" onclick=\"convertToInteractive('df-da279d9b-8af8-4fb8-a594-c2e9984987af')\"\n",
              "              title=\"Convert this dataframe to an interactive table.\"\n",
              "              style=\"display:none;\">\n",
              "        \n",
              "  <svg xmlns=\"http://www.w3.org/2000/svg\" height=\"24px\"viewBox=\"0 0 24 24\"\n",
              "       width=\"24px\">\n",
              "    <path d=\"M0 0h24v24H0V0z\" fill=\"none\"/>\n",
              "    <path d=\"M18.56 5.44l.94 2.06.94-2.06 2.06-.94-2.06-.94-.94-2.06-.94 2.06-2.06.94zm-11 1L8.5 8.5l.94-2.06 2.06-.94-2.06-.94L8.5 2.5l-.94 2.06-2.06.94zm10 10l.94 2.06.94-2.06 2.06-.94-2.06-.94-.94-2.06-.94 2.06-2.06.94z\"/><path d=\"M17.41 7.96l-1.37-1.37c-.4-.4-.92-.59-1.43-.59-.52 0-1.04.2-1.43.59L10.3 9.45l-7.72 7.72c-.78.78-.78 2.05 0 2.83L4 21.41c.39.39.9.59 1.41.59.51 0 1.02-.2 1.41-.59l7.78-7.78 2.81-2.81c.8-.78.8-2.07 0-2.86zM5.41 20L4 18.59l7.72-7.72 1.47 1.35L5.41 20z\"/>\n",
              "  </svg>\n",
              "      </button>\n",
              "      \n",
              "  <style>\n",
              "    .colab-df-container {\n",
              "      display:flex;\n",
              "      flex-wrap:wrap;\n",
              "      gap: 12px;\n",
              "    }\n",
              "\n",
              "    .colab-df-convert {\n",
              "      background-color: #E8F0FE;\n",
              "      border: none;\n",
              "      border-radius: 50%;\n",
              "      cursor: pointer;\n",
              "      display: none;\n",
              "      fill: #1967D2;\n",
              "      height: 32px;\n",
              "      padding: 0 0 0 0;\n",
              "      width: 32px;\n",
              "    }\n",
              "\n",
              "    .colab-df-convert:hover {\n",
              "      background-color: #E2EBFA;\n",
              "      box-shadow: 0px 1px 2px rgba(60, 64, 67, 0.3), 0px 1px 3px 1px rgba(60, 64, 67, 0.15);\n",
              "      fill: #174EA6;\n",
              "    }\n",
              "\n",
              "    [theme=dark] .colab-df-convert {\n",
              "      background-color: #3B4455;\n",
              "      fill: #D2E3FC;\n",
              "    }\n",
              "\n",
              "    [theme=dark] .colab-df-convert:hover {\n",
              "      background-color: #434B5C;\n",
              "      box-shadow: 0px 1px 3px 1px rgba(0, 0, 0, 0.15);\n",
              "      filter: drop-shadow(0px 1px 2px rgba(0, 0, 0, 0.3));\n",
              "      fill: #FFFFFF;\n",
              "    }\n",
              "  </style>\n",
              "\n",
              "      <script>\n",
              "        const buttonEl =\n",
              "          document.querySelector('#df-da279d9b-8af8-4fb8-a594-c2e9984987af button.colab-df-convert');\n",
              "        buttonEl.style.display =\n",
              "          google.colab.kernel.accessAllowed ? 'block' : 'none';\n",
              "\n",
              "        async function convertToInteractive(key) {\n",
              "          const element = document.querySelector('#df-da279d9b-8af8-4fb8-a594-c2e9984987af');\n",
              "          const dataTable =\n",
              "            await google.colab.kernel.invokeFunction('convertToInteractive',\n",
              "                                                     [key], {});\n",
              "          if (!dataTable) return;\n",
              "\n",
              "          const docLinkHtml = 'Like what you see? Visit the ' +\n",
              "            '<a target=\"_blank\" href=https://colab.research.google.com/notebooks/data_table.ipynb>data table notebook</a>'\n",
              "            + ' to learn more about interactive tables.';\n",
              "          element.innerHTML = '';\n",
              "          dataTable['output_type'] = 'display_data';\n",
              "          await google.colab.output.renderOutput(dataTable, element);\n",
              "          const docLink = document.createElement('div');\n",
              "          docLink.innerHTML = docLinkHtml;\n",
              "          element.appendChild(docLink);\n",
              "        }\n",
              "      </script>\n",
              "    </div>\n",
              "  </div>\n",
              "  "
            ]
          },
          "metadata": {},
          "execution_count": 5
        }
      ]
    },
    {
      "cell_type": "code",
      "source": [
        "total_genres = []\n",
        "for g in df[\"genre\"]:\n",
        "    g = g\n",
        "    if g not in total_genres:\n",
        "        total_genres.append(g)\n",
        "total_genres"
      ],
      "metadata": {
        "id": "w67kHVroY1d6"
      },
      "execution_count": null,
      "outputs": []
    },
    {
      "cell_type": "code",
      "source": [
        "df.shape"
      ],
      "metadata": {
        "colab": {
          "base_uri": "https://localhost:8080/"
        },
        "id": "EAKTFy0rZjNK",
        "outputId": "fad7c3e4-f4b3-4b41-8730-56f54b802d0b"
      },
      "execution_count": 12,
      "outputs": [
        {
          "output_type": "execute_result",
          "data": {
            "text/plain": [
              "(8831, 10)"
            ]
          },
          "metadata": {},
          "execution_count": 12
        }
      ]
    },
    {
      "cell_type": "code",
      "source": [
        "df.info()"
      ],
      "metadata": {
        "colab": {
          "base_uri": "https://localhost:8080/"
        },
        "id": "kEMXY3uzZ6Hw",
        "outputId": "81dd5c62-9775-4272-8ae3-818fedb13fd0"
      },
      "execution_count": 13,
      "outputs": [
        {
          "output_type": "stream",
          "name": "stdout",
          "text": [
            "<class 'pandas.core.frame.DataFrame'>\n",
            "RangeIndex: 8831 entries, 0 to 8830\n",
            "Data columns (total 10 columns):\n",
            " #   Column       Non-Null Count  Dtype  \n",
            "---  ------       --------------  -----  \n",
            " 0   game_name    8831 non-null   object \n",
            " 1   meta_score   8831 non-null   float64\n",
            " 2   user_score   8831 non-null   float64\n",
            " 3   platform     8831 non-null   object \n",
            " 4   description  8831 non-null   object \n",
            " 5   url          8831 non-null   object \n",
            " 6   developer    8821 non-null   object \n",
            " 7   genre        8827 non-null   object \n",
            " 8   type         6727 non-null   object \n",
            " 9   rating       7691 non-null   object \n",
            "dtypes: float64(2), object(8)\n",
            "memory usage: 690.0+ KB\n"
          ]
        }
      ]
    },
    {
      "cell_type": "code",
      "source": [
        "tfidf = TfidfVectorizer()\n",
        "tfidf_matrix = tfidf.fit_transform(df['genre'].values.astype('U'))"
      ],
      "metadata": {
        "id": "hsLzsthnZ7n1"
      },
      "execution_count": 14,
      "outputs": []
    },
    {
      "cell_type": "code",
      "source": [
        "cos_similarity = linear_kernel(tfidf_matrix, tfidf_matrix)"
      ],
      "metadata": {
        "id": "WhjfLQk1aTuv"
      },
      "execution_count": 15,
      "outputs": []
    },
    {
      "cell_type": "code",
      "source": [
        "indices=pd.Series(df.index,index=df['game_name'])\n",
        "titles=df['game_name']\n",
        "def recommend_game(title):\n",
        "    idx = indices[title]\n",
        "    similarity_scores = list(enumerate(cos_similarity[idx]))\n",
        "    similarity_scores = sorted(similarity_scores, key=lambda x: x[1], reverse=True)\n",
        "    similarity_scores = similarity_scores[1:11]\n",
        "    data = []\n",
        "    for i in similarity_scores:\n",
        "        item = []\n",
        "        temp_df = df[df['game_name'] == indices.index[i[0]] ]\n",
        "        item.extend(list(temp_df.drop_duplicates('game_name')['game_name'].values ))\n",
        "        item.extend(list(temp_df.drop_duplicates('platform')['platform'].values ))\n",
        "        item.extend(list(temp_df.drop_duplicates('game_name')['genre'].values ))\n",
        "        item.extend(list(temp_df.drop_duplicates('game_name')['type'].values ))\n",
        "        \n",
        "        data.append(item)\n",
        "    return data"
      ],
      "metadata": {
        "id": "PUVzt0kRaJkw"
      },
      "execution_count": 27,
      "outputs": []
    },
    {
      "cell_type": "code",
      "source": [
        "recom_sys('Call of Duty')"
      ],
      "metadata": {
        "colab": {
          "base_uri": "https://localhost:8080/"
        },
        "id": "dw6wQ1vXaVGh",
        "outputId": "b9640521-6d2a-4620-d428-3bdf45378850"
      },
      "execution_count": 28,
      "outputs": [
        {
          "output_type": "execute_result",
          "data": {
            "text/plain": [
              "[['Call of Duty Classic',\n",
              "  \"['playstation-3', 'xbox-360']\",\n",
              "  'https://www.metacritic.com/game/playstation-3/call-of-duty-classic',\n",
              "  \"['Action', 'Shooter', 'First-Person', 'Third-Person', 'Historic', 'Tactical', 'Arcade']\",\n",
              "  'multiplayer'],\n",
              " ['LawBreakers',\n",
              "  \"['playstation-4']\",\n",
              "  'https://www.metacritic.com/game/playstation-4/lawbreakers',\n",
              "  \"['Third-Person', 'Arcade', 'Action', 'Shooter', 'First-Person', 'Tactical']\",\n",
              "  'multiplayer'],\n",
              " ['Day of Defeat: Source',\n",
              "  \"['pc']\",\n",
              "  'https://www.metacritic.com/game/pc/day-of-defeat-source',\n",
              "  \"['Action', 'Shooter', 'First-Person', 'Historic', 'Tactical', 'Arcade']\",\n",
              "  'multiplayer'],\n",
              " ['Call of Duty: Black Ops',\n",
              "  \"['playstation-3', 'wii', 'ds']\",\n",
              "  'https://www.metacritic.com/game/playstation-3/call-of-duty-black-ops',\n",
              "  \"['Action', 'Shooter', 'First-Person', 'Historic', 'Tactical', 'Arcade']\",\n",
              "  'multiplayer'],\n",
              " ['Call of Duty: Black Ops - Escalation',\n",
              "  \"['xbox-360']\",\n",
              "  'https://www.metacritic.com/game/xbox-360/call-of-duty-black-ops---escalation',\n",
              "  \"['Action', 'Shooter', 'First-Person', 'Historic', 'Tactical', 'Arcade']\",\n",
              "  nan],\n",
              " ['Call of Duty: Black Ops - Rezurrection',\n",
              "  \"['xbox-360']\",\n",
              "  'https://www.metacritic.com/game/xbox-360/call-of-duty-black-ops---rezurrection',\n",
              "  \"['Action', 'Shooter', 'First-Person', 'Historic', 'Tactical', 'Arcade']\",\n",
              "  nan],\n",
              " ['ShellShock 2: Blood Trails',\n",
              "  \"['pc', 'playstation-3']\",\n",
              "  'https://www.metacritic.com/game/pc/shellshock-2-blood-trails',\n",
              "  \"['Action', 'Shooter', 'First-Person', 'Third-Person', 'Historic', 'Arcade']\",\n",
              "  nan],\n",
              " ['Sniper Elite',\n",
              "  \"['xbox', 'playstation-2', 'pc']\",\n",
              "  'https://www.metacritic.com/game/xbox/sniper-elite',\n",
              "  \"['Action', 'Shooter', 'Third-Person', 'Tactical', 'Historic']\",\n",
              "  'multiplayer'],\n",
              " ['Sniper Elite III',\n",
              "  \"['pc', 'playstation-4', 'xbox-one']\",\n",
              "  'https://www.metacritic.com/game/pc/sniper-elite-iii',\n",
              "  \"['Shooter', 'Historic', 'Action', 'Third-Person', 'Tactical']\",\n",
              "  nan],\n",
              " [\"Tom Clancy's The Division 2\",\n",
              "  \"['pc']\",\n",
              "  'https://www.metacritic.com/game/pc/tom-clancys-the-division-2',\n",
              "  \"['First-Person', 'Action', 'Shooter', 'Third-Person', 'Tactical']\",\n",
              "  'multiplayer']]"
            ]
          },
          "metadata": {},
          "execution_count": 28
        }
      ]
    },
    {
      "cell_type": "code",
      "source": [
        ""
      ],
      "metadata": {
        "id": "34sWeZTjajjC"
      },
      "execution_count": null,
      "outputs": []
    }
  ]
}