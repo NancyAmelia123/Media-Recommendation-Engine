{
  "nbformat": 4,
  "nbformat_minor": 0,
  "metadata": {
    "colab": {
      "name": "Manga Recommendation.ipynb",
      "provenance": []
    },
    "kernelspec": {
      "name": "python3",
      "display_name": "Python 3"
    },
    "language_info": {
      "name": "python"
    }
  },
  "cells": [
    {
      "cell_type": "code",
      "execution_count": 1,
      "metadata": {
        "colab": {
          "resources": {
            "http://localhost:8080/nbextensions/google.colab/files.js": {
              "data": "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",
              "ok": true,
              "headers": [
                [
                  "content-type",
                  "application/javascript"
                ]
              ],
              "status": 200,
              "status_text": ""
            }
          },
          "base_uri": "https://localhost:8080/",
          "height": 90
        },
        "id": "_hpk3aRAlCVL",
        "outputId": "1ac5abab-5259-4ac3-c7be-0e280d715d0a"
      },
      "outputs": [
        {
          "output_type": "display_data",
          "data": {
            "text/plain": [
              "<IPython.core.display.HTML object>"
            ],
            "text/html": [
              "\n",
              "     <input type=\"file\" id=\"files-c0381680-35e1-412e-85f1-102161922c9e\" name=\"files[]\" multiple disabled\n",
              "        style=\"border:none\" />\n",
              "     <output id=\"result-c0381680-35e1-412e-85f1-102161922c9e\">\n",
              "      Upload widget is only available when the cell has been executed in the\n",
              "      current browser session. Please rerun this cell to enable.\n",
              "      </output>\n",
              "      <script src=\"/nbextensions/google.colab/files.js\"></script> "
            ]
          },
          "metadata": {}
        },
        {
          "output_type": "stream",
          "name": "stdout",
          "text": [
            "Saving kaggle.json to kaggle.json\n"
          ]
        },
        {
          "output_type": "execute_result",
          "data": {
            "text/plain": [
              "{'kaggle.json': b'{\"username\":\"ifeanyinneji\",\"key\":\"68b7b1b6c0d102f7d9941d0b3eff800a\"}'}"
            ]
          },
          "metadata": {},
          "execution_count": 1
        }
      ],
      "source": [
        "!pip install -q kaggle\n",
        "from google.colab import files\n",
        "\n",
        "files.upload()"
      ]
    },
    {
      "cell_type": "code",
      "source": [
        "# This cell creates a .kaggle hidden folder in our root directory and copies the kaggle.json file to the folder.\n",
        "! mkdir ~/.kaggle\n",
        "\n",
        "! cp kaggle.json ~/.kaggle/\n",
        "! chmod 600 /root/.kaggle/kaggle.json"
      ],
      "metadata": {
        "id": "PaYtF9UmuiIc"
      },
      "execution_count": 2,
      "outputs": []
    },
    {
      "cell_type": "code",
      "source": [
        "# This cell will download the dataset used for this project to the /content directory and also unzip the csv file.\n",
        "!kaggle datasets download -d darknez/manga-dataset\n",
        "!unzip /content/manga-dataset.zip"
      ],
      "metadata": {
        "colab": {
          "base_uri": "https://localhost:8080/"
        },
        "id": "ol079uj_uxWn",
        "outputId": "92503a4b-ec80-4311-f4de-7ef764e6c267"
      },
      "execution_count": 3,
      "outputs": [
        {
          "output_type": "stream",
          "name": "stdout",
          "text": [
            "Downloading manga-dataset.zip to /content\n",
            "\r  0% 0.00/4.88M [00:00<?, ?B/s]\n",
            "\r100% 4.88M/4.88M [00:00<00:00, 117MB/s]\n",
            "Archive:  /content/manga-dataset.zip\n",
            "  inflating: Apr28_2021.csv          \n",
            "  inflating: Aug2020.csv             \n",
            "  inflating: May2_2021.csv           \n",
            "  inflating: May3_2021.csv           \n"
          ]
        }
      ]
    },
    {
      "cell_type": "code",
      "source": [
        "!du -sh *"
      ],
      "metadata": {
        "colab": {
          "base_uri": "https://localhost:8080/"
        },
        "id": "IJbG5gr3vNm4",
        "outputId": "2b94adff-a0ef-43e0-f917-9ff11f1f5046"
      },
      "execution_count": 4,
      "outputs": [
        {
          "output_type": "stream",
          "name": "stdout",
          "text": [
            "3.5M\tApr28_2021.csv\n",
            "5.7M\tAug2020.csv\n",
            "4.0K\tkaggle.json\n",
            "4.9M\tmanga-dataset.zip\n",
            "3.5M\tMay2_2021.csv\n",
            "7.0M\tMay3_2021.csv\n",
            "55M\tsample_data\n"
          ]
        }
      ]
    },
    {
      "cell_type": "code",
      "source": [
        "import pandas as pd\n",
        "import matplotlib.pyplot as plt\n",
        "import seaborn as sns\n",
        "%matplotlib inline\n",
        "sns.set_style('darkgrid')\n",
        "from wordcloud import WordCloud\n",
        "from sklearn.feature_extraction.text import TfidfVectorizer\n",
        "from sklearn.metrics.pairwise import linear_kernel"
      ],
      "metadata": {
        "id": "5I7NcwH5vAcS"
      },
      "execution_count": 7,
      "outputs": []
    },
    {
      "cell_type": "code",
      "source": [
        "import pandas as pd\n",
        "df = pd.read_csv(\"May3_2021.csv\")\n",
        "df2 = pd.read_csv(\"Aug2020.csv\")\n",
        "df3 = pd.read_csv(\"May2_2021.csv\")\n",
        "df4 = pd.read_csv(\"Apr28_2021.csv\")\n",
        "\n",
        "print(\"Shape\", df.shape)\n",
        "print(\"Shape\", df2.shape)\n",
        "print(\"Shape\", df3.shape)\n",
        "print(\"Shape\", df4.shape)"
      ],
      "metadata": {
        "colab": {
          "base_uri": "https://localhost:8080/"
        },
        "id": "d4zXmXGGvEzR",
        "outputId": "9e287424-85ac-47a7-f8ac-ae385036c2c9"
      },
      "execution_count": 2,
      "outputs": [
        {
          "output_type": "stream",
          "name": "stdout",
          "text": [
            "Shape (29665, 12)\n",
            "Shape (24247, 12)\n",
            "Shape (14825, 12)\n",
            "Shape (14819, 12)\n"
          ]
        }
      ]
    },
    {
      "cell_type": "code",
      "source": [
        "total_genres = []\n",
        "for g in df3[\"Genre\"]:\n",
        "    g = g\n",
        "    if g not in total_genres:\n",
        "        total_genres.append(g)\n",
        "total_genres"
      ],
      "metadata": {
        "id": "z-8rQNLlvVks"
      },
      "execution_count": null,
      "outputs": []
    },
    {
      "cell_type": "code",
      "source": [
        "df.shape"
      ],
      "metadata": {
        "colab": {
          "base_uri": "https://localhost:8080/"
        },
        "id": "fVfb22SIvguZ",
        "outputId": "28873c33-25e4-4ab1-e87b-1de4cd8883b2"
      },
      "execution_count": 4,
      "outputs": [
        {
          "output_type": "execute_result",
          "data": {
            "text/plain": [
              "(29665, 12)"
            ]
          },
          "metadata": {},
          "execution_count": 4
        }
      ]
    },
    {
      "cell_type": "code",
      "source": [
        "df.info()"
      ],
      "metadata": {
        "colab": {
          "base_uri": "https://localhost:8080/"
        },
        "id": "QozpLjAVvm5d",
        "outputId": "5fc6a5b3-6e58-495f-f63f-43f5b35d0c28"
      },
      "execution_count": 5,
      "outputs": [
        {
          "output_type": "stream",
          "name": "stdout",
          "text": [
            "<class 'pandas.core.frame.DataFrame'>\n",
            "RangeIndex: 29665 entries, 0 to 29664\n",
            "Data columns (total 12 columns):\n",
            " #   Column            Non-Null Count  Dtype \n",
            "---  ------            --------------  ----- \n",
            " 0   Name              29664 non-null  object\n",
            " 1   Latest Chapter    29665 non-null  object\n",
            " 2   Dated Released    29665 non-null  object\n",
            " 3   depth             29665 non-null  object\n",
            " 4   download_timeout  29665 non-null  object\n",
            " 5   download_slot     29665 non-null  object\n",
            " 6   download_latency  29665 non-null  object\n",
            " 7   Link              29665 non-null  object\n",
            " 8   Genre             29280 non-null  object\n",
            " 9   Status            29332 non-null  object\n",
            " 10  Rating            29665 non-null  object\n",
            " 11  img-link          29665 non-null  object\n",
            "dtypes: object(12)\n",
            "memory usage: 2.7+ MB\n"
          ]
        }
      ]
    },
    {
      "cell_type": "code",
      "source": [
        "tfidf = TfidfVectorizer()\n",
        "tfidf_matrix = tfidf.fit_transform(df3['Genre'].values.astype('U'))"
      ],
      "metadata": {
        "id": "MSYcsE0nvoKK"
      },
      "execution_count": 8,
      "outputs": []
    },
    {
      "cell_type": "code",
      "source": [
        "cos_similarity = linear_kernel(tfidf_matrix, tfidf_matrix)"
      ],
      "metadata": {
        "id": "cIC-4h_svsyu"
      },
      "execution_count": 9,
      "outputs": []
    },
    {
      "cell_type": "code",
      "source": [
        "indices=pd.Series(df3.index,index=df3['Name'])\n",
        "titles=df3['Name']\n",
        "def recommend_manga(title):\n",
        "    idx = indices[title]\n",
        "    similarity_scores = list(enumerate(cos_similarity[idx]))\n",
        "    similarity_scores = sorted(similarity_scores, key=lambda x: x[1], reverse=True)\n",
        "    similarity_scores = similarity_scores[1:11]\n",
        "    data = []\n",
        "    for i in similarity_scores:\n",
        "        item = []\n",
        "        temp_df = df3[df3['Name'] == indices.index[i[0]] ]\n",
        "        item.extend(list(temp_df.drop_duplicates('Name')['Name'].values ))\n",
        "        item.extend(list(temp_df.drop_duplicates('Name')['img-link'].values ))\n",
        "        data.append(item)\n",
        "    return data"
      ],
      "metadata": {
        "id": "z84diXtovzxc"
      },
      "execution_count": 22,
      "outputs": []
    },
    {
      "cell_type": "code",
      "source": [
        "df3.head()"
      ],
      "metadata": {
        "colab": {
          "base_uri": "https://localhost:8080/",
          "height": 496
        },
        "id": "7qif52flxgdp",
        "outputId": "e41be78b-b4b7-453d-c4cf-b7f81ca1574c"
      },
      "execution_count": 23,
      "outputs": [
        {
          "output_type": "execute_result",
          "data": {
            "text/plain": [
              "                                   Name Latest Chapter Dated Released  depth  \\\n",
              "0  The Eunuch's Consort Rules The World     Chapter 56      May 02,21      2   \n",
              "1                     Remarried Empress     Chapter 77      May 02,21      2   \n",
              "2   Dream Life: Yume No Isekai Seikatsu    Chapter 5.1      May 02,21      2   \n",
              "3                 Hataraku Saibou Black     Chapter 41      May 02,21      2   \n",
              "4                          Crush On You     Chapter 71      May 02,21      2   \n",
              "\n",
              "   download_timeout  download_slot  download_latency  \\\n",
              "0             180.0  manganelo.com          0.408603   \n",
              "1             180.0  manganelo.com          0.476739   \n",
              "2             180.0  manganelo.com          0.614110   \n",
              "3             180.0  manganelo.com          0.608487   \n",
              "4             180.0  manganelo.com          0.665427   \n",
              "\n",
              "                                              Link  \\\n",
              "0             https://manganelo.com/manga/ee923368   \n",
              "1             https://manganelo.com/manga/gi921111   \n",
              "2             https://manganelo.com/manga/ad924426   \n",
              "3  https://manganelo.com/manga/lbza281491570207597   \n",
              "4         https://manganelo.com/manga/crush_on_you   \n",
              "\n",
              "                                               Genre     Status  Rating  \\\n",
              "0                        Historical,Romance,Webtoons    Ongoing    4.64   \n",
              "1                                            Romance    Ongoing    4.83   \n",
              "2  Action,Adventure,Comedy,Drama,Fantasy,Mystery,...    Ongoing    4.69   \n",
              "3             Action,Drama,School life,Sci fi,Seinen    Ongoing    4.66   \n",
              "4  Comedy,Drama,Josei,Romance,School life,Shoujo,...  Completed    3.43   \n",
              "\n",
              "                                            img-link  \n",
              "0  https://avt.mkklcdnv6temp.com/32/w/21-15936633...  \n",
              "1  https://avt.mkklcdnv6temp.com/43/x/19-15835007...  \n",
              "2  https://avt.mkklcdnv6temp.com/25/h/22-16017844...  \n",
              "3  https://avt.mkklcdnv6temp.com/44/a/16-15834950...  \n",
              "4  https://avt.mkklcdnv6temp.com/3/e/4-1583469777...  "
            ],
            "text/html": [
              "\n",
              "  <div id=\"df-05c6889e-9228-4918-8551-20a14c2a012c\">\n",
              "    <div class=\"colab-df-container\">\n",
              "      <div>\n",
              "<style scoped>\n",
              "    .dataframe tbody tr th:only-of-type {\n",
              "        vertical-align: middle;\n",
              "    }\n",
              "\n",
              "    .dataframe tbody tr th {\n",
              "        vertical-align: top;\n",
              "    }\n",
              "\n",
              "    .dataframe thead th {\n",
              "        text-align: right;\n",
              "    }\n",
              "</style>\n",
              "<table border=\"1\" class=\"dataframe\">\n",
              "  <thead>\n",
              "    <tr style=\"text-align: right;\">\n",
              "      <th></th>\n",
              "      <th>Name</th>\n",
              "      <th>Latest Chapter</th>\n",
              "      <th>Dated Released</th>\n",
              "      <th>depth</th>\n",
              "      <th>download_timeout</th>\n",
              "      <th>download_slot</th>\n",
              "      <th>download_latency</th>\n",
              "      <th>Link</th>\n",
              "      <th>Genre</th>\n",
              "      <th>Status</th>\n",
              "      <th>Rating</th>\n",
              "      <th>img-link</th>\n",
              "    </tr>\n",
              "  </thead>\n",
              "  <tbody>\n",
              "    <tr>\n",
              "      <th>0</th>\n",
              "      <td>The Eunuch's Consort Rules The World</td>\n",
              "      <td>Chapter 56</td>\n",
              "      <td>May 02,21</td>\n",
              "      <td>2</td>\n",
              "      <td>180.0</td>\n",
              "      <td>manganelo.com</td>\n",
              "      <td>0.408603</td>\n",
              "      <td>https://manganelo.com/manga/ee923368</td>\n",
              "      <td>Historical,Romance,Webtoons</td>\n",
              "      <td>Ongoing</td>\n",
              "      <td>4.64</td>\n",
              "      <td>https://avt.mkklcdnv6temp.com/32/w/21-15936633...</td>\n",
              "    </tr>\n",
              "    <tr>\n",
              "      <th>1</th>\n",
              "      <td>Remarried Empress</td>\n",
              "      <td>Chapter 77</td>\n",
              "      <td>May 02,21</td>\n",
              "      <td>2</td>\n",
              "      <td>180.0</td>\n",
              "      <td>manganelo.com</td>\n",
              "      <td>0.476739</td>\n",
              "      <td>https://manganelo.com/manga/gi921111</td>\n",
              "      <td>Romance</td>\n",
              "      <td>Ongoing</td>\n",
              "      <td>4.83</td>\n",
              "      <td>https://avt.mkklcdnv6temp.com/43/x/19-15835007...</td>\n",
              "    </tr>\n",
              "    <tr>\n",
              "      <th>2</th>\n",
              "      <td>Dream Life: Yume No Isekai Seikatsu</td>\n",
              "      <td>Chapter 5.1</td>\n",
              "      <td>May 02,21</td>\n",
              "      <td>2</td>\n",
              "      <td>180.0</td>\n",
              "      <td>manganelo.com</td>\n",
              "      <td>0.614110</td>\n",
              "      <td>https://manganelo.com/manga/ad924426</td>\n",
              "      <td>Action,Adventure,Comedy,Drama,Fantasy,Mystery,...</td>\n",
              "      <td>Ongoing</td>\n",
              "      <td>4.69</td>\n",
              "      <td>https://avt.mkklcdnv6temp.com/25/h/22-16017844...</td>\n",
              "    </tr>\n",
              "    <tr>\n",
              "      <th>3</th>\n",
              "      <td>Hataraku Saibou Black</td>\n",
              "      <td>Chapter 41</td>\n",
              "      <td>May 02,21</td>\n",
              "      <td>2</td>\n",
              "      <td>180.0</td>\n",
              "      <td>manganelo.com</td>\n",
              "      <td>0.608487</td>\n",
              "      <td>https://manganelo.com/manga/lbza281491570207597</td>\n",
              "      <td>Action,Drama,School life,Sci fi,Seinen</td>\n",
              "      <td>Ongoing</td>\n",
              "      <td>4.66</td>\n",
              "      <td>https://avt.mkklcdnv6temp.com/44/a/16-15834950...</td>\n",
              "    </tr>\n",
              "    <tr>\n",
              "      <th>4</th>\n",
              "      <td>Crush On You</td>\n",
              "      <td>Chapter 71</td>\n",
              "      <td>May 02,21</td>\n",
              "      <td>2</td>\n",
              "      <td>180.0</td>\n",
              "      <td>manganelo.com</td>\n",
              "      <td>0.665427</td>\n",
              "      <td>https://manganelo.com/manga/crush_on_you</td>\n",
              "      <td>Comedy,Drama,Josei,Romance,School life,Shoujo,...</td>\n",
              "      <td>Completed</td>\n",
              "      <td>3.43</td>\n",
              "      <td>https://avt.mkklcdnv6temp.com/3/e/4-1583469777...</td>\n",
              "    </tr>\n",
              "  </tbody>\n",
              "</table>\n",
              "</div>\n",
              "      <button class=\"colab-df-convert\" onclick=\"convertToInteractive('df-05c6889e-9228-4918-8551-20a14c2a012c')\"\n",
              "              title=\"Convert this dataframe to an interactive table.\"\n",
              "              style=\"display:none;\">\n",
              "        \n",
              "  <svg xmlns=\"http://www.w3.org/2000/svg\" height=\"24px\"viewBox=\"0 0 24 24\"\n",
              "       width=\"24px\">\n",
              "    <path d=\"M0 0h24v24H0V0z\" fill=\"none\"/>\n",
              "    <path d=\"M18.56 5.44l.94 2.06.94-2.06 2.06-.94-2.06-.94-.94-2.06-.94 2.06-2.06.94zm-11 1L8.5 8.5l.94-2.06 2.06-.94-2.06-.94L8.5 2.5l-.94 2.06-2.06.94zm10 10l.94 2.06.94-2.06 2.06-.94-2.06-.94-.94-2.06-.94 2.06-2.06.94z\"/><path d=\"M17.41 7.96l-1.37-1.37c-.4-.4-.92-.59-1.43-.59-.52 0-1.04.2-1.43.59L10.3 9.45l-7.72 7.72c-.78.78-.78 2.05 0 2.83L4 21.41c.39.39.9.59 1.41.59.51 0 1.02-.2 1.41-.59l7.78-7.78 2.81-2.81c.8-.78.8-2.07 0-2.86zM5.41 20L4 18.59l7.72-7.72 1.47 1.35L5.41 20z\"/>\n",
              "  </svg>\n",
              "      </button>\n",
              "      \n",
              "  <style>\n",
              "    .colab-df-container {\n",
              "      display:flex;\n",
              "      flex-wrap:wrap;\n",
              "      gap: 12px;\n",
              "    }\n",
              "\n",
              "    .colab-df-convert {\n",
              "      background-color: #E8F0FE;\n",
              "      border: none;\n",
              "      border-radius: 50%;\n",
              "      cursor: pointer;\n",
              "      display: none;\n",
              "      fill: #1967D2;\n",
              "      height: 32px;\n",
              "      padding: 0 0 0 0;\n",
              "      width: 32px;\n",
              "    }\n",
              "\n",
              "    .colab-df-convert:hover {\n",
              "      background-color: #E2EBFA;\n",
              "      box-shadow: 0px 1px 2px rgba(60, 64, 67, 0.3), 0px 1px 3px 1px rgba(60, 64, 67, 0.15);\n",
              "      fill: #174EA6;\n",
              "    }\n",
              "\n",
              "    [theme=dark] .colab-df-convert {\n",
              "      background-color: #3B4455;\n",
              "      fill: #D2E3FC;\n",
              "    }\n",
              "\n",
              "    [theme=dark] .colab-df-convert:hover {\n",
              "      background-color: #434B5C;\n",
              "      box-shadow: 0px 1px 3px 1px rgba(0, 0, 0, 0.15);\n",
              "      filter: drop-shadow(0px 1px 2px rgba(0, 0, 0, 0.3));\n",
              "      fill: #FFFFFF;\n",
              "    }\n",
              "  </style>\n",
              "\n",
              "      <script>\n",
              "        const buttonEl =\n",
              "          document.querySelector('#df-05c6889e-9228-4918-8551-20a14c2a012c button.colab-df-convert');\n",
              "        buttonEl.style.display =\n",
              "          google.colab.kernel.accessAllowed ? 'block' : 'none';\n",
              "\n",
              "        async function convertToInteractive(key) {\n",
              "          const element = document.querySelector('#df-05c6889e-9228-4918-8551-20a14c2a012c');\n",
              "          const dataTable =\n",
              "            await google.colab.kernel.invokeFunction('convertToInteractive',\n",
              "                                                     [key], {});\n",
              "          if (!dataTable) return;\n",
              "\n",
              "          const docLinkHtml = 'Like what you see? Visit the ' +\n",
              "            '<a target=\"_blank\" href=https://colab.research.google.com/notebooks/data_table.ipynb>data table notebook</a>'\n",
              "            + ' to learn more about interactive tables.';\n",
              "          element.innerHTML = '';\n",
              "          dataTable['output_type'] = 'display_data';\n",
              "          await google.colab.output.renderOutput(dataTable, element);\n",
              "          const docLink = document.createElement('div');\n",
              "          docLink.innerHTML = docLinkHtml;\n",
              "          element.appendChild(docLink);\n",
              "        }\n",
              "      </script>\n",
              "    </div>\n",
              "  </div>\n",
              "  "
            ]
          },
          "metadata": {},
          "execution_count": 23
        }
      ]
    },
    {
      "cell_type": "code",
      "source": [
        "recommend_manga('Crush On You')"
      ],
      "metadata": {
        "colab": {
          "base_uri": "https://localhost:8080/"
        },
        "id": "FN2y3YrqxWR2",
        "outputId": "8c7157b8-d3e1-45d4-ed7f-0f8505364744"
      },
      "execution_count": 24,
      "outputs": [
        {
          "output_type": "execute_result",
          "data": {
            "text/plain": [
              "[['Otona No Mondai',\n",
              "  'https://avt.mkklcdnv6temp.com/35/l/4-1583471145.jpg',\n",
              "  'https://manganelo.com/manga/otona_no_mondai'],\n",
              " ['Girl X Girl X Boy',\n",
              "  'https://avt.mkklcdnv6temp.com/18/v/5-1583472580.jpg',\n",
              "  'https://manganelo.com/manga/girl_x_girl_x_boy'],\n",
              " ['Become A Girl At Night',\n",
              "  'https://avt.mkklcdnv6temp.com/42/i/18-1583498741.jpg',\n",
              "  'https://manganelo.com/manga/er919718'],\n",
              " ['The Love Doctor',\n",
              "  'https://avt.mkklcdnv6temp.com/22/s/14-1583490557.jpg',\n",
              "  'https://manganelo.com/manga/the_love_doctor'],\n",
              " ['Milkman',\n",
              "  'https://avt.mkklcdnv6temp.com/5/a/9-1583480288.jpg',\n",
              "  'https://manganelo.com/manga/milkman'],\n",
              " ['Ijippari Yuugitai!',\n",
              "  'https://avt.mkklcdnv6temp.com/12/m/16-1583493923.jpg',\n",
              "  'https://manganelo.com/manga/ijippari_yuugitai'],\n",
              " ['69',\n",
              "  'https://avt.mkklcdnv6temp.com/9/p/7-1583476656.jpg',\n",
              "  'https://manganelo.com/manga/69'],\n",
              " ['Bingo!',\n",
              "  'https://avt.mkklcdnv6temp.com/18/c/7-1583476951.jpg',\n",
              "  'https://manganelo.com/manga/bingo'],\n",
              " ['Hirano To Kagiura',\n",
              "  'https://avt.mkklcdnv6temp.com/48/c/18-1583498973.jpg',\n",
              "  'https://manganelo.com/manga/pe919870'],\n",
              " ['Zenryaku, Yuri No Sono Yori',\n",
              "  'https://avt.mkklcdnv6temp.com/22/u/9-1583480992.jpg',\n",
              "  'https://manganelo.com/manga/zenryaku_yuri_no_sono_yori']]"
            ]
          },
          "metadata": {},
          "execution_count": 24
        }
      ]
    },
    {
      "cell_type": "code",
      "source": [
        ""
      ],
      "metadata": {
        "id": "GqBg0HkexmNW"
      },
      "execution_count": null,
      "outputs": []
    }
  ]
}